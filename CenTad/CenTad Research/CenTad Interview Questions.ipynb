{
 "cells": [
  {
   "cell_type": "code",
   "execution_count": 2,
   "metadata": {},
   "outputs": [
    {
     "name": "stdout",
     "output_type": "stream",
     "text": [
      "Enter the number: 15\n",
      "Enter the value of m: 54\n",
      "Enter the value of n: 5\n"
     ]
    }
   ],
   "source": [
    "#Q1\n",
    "import numpy\n",
    "import math\n",
    "\n",
    "#assigning limits of matrix\n",
    "summed = int(input(\"Enter the number: \"))\n",
    "m = int(input(\"Enter the value of m: \"))\n",
    "n = int(input(\"Enter the value of n: \"))\n",
    "\n",
    "#calculating ceiling and floor of number\n",
    "subtracted_num = (n/2)*(n+1)"
   ]
  },
  {
   "cell_type": "code",
   "execution_count": 3,
   "metadata": {},
   "outputs": [],
   "source": [
    "#calculations\n",
    "summed = summed - subtracted_num\n",
    "divided = summed/(m-1)\n",
    "c=divided\n",
    "int_divide = summed//(m-1)\n",
    "divided -= int_divide"
   ]
  },
  {
   "cell_type": "code",
   "execution_count": 4,
   "metadata": {},
   "outputs": [],
   "source": [
    "#determining the max and min limits of the number being replicated (summed)\n",
    "floor = int(int_divide)\n",
    "ceiling = math.ceil(c)\n",
    "bbb=False #random variable\n",
    "if c==n or floor==ceiling: # to prevent downwards movement when min is equal to max \n",
    "    bbb=True"
   ]
  },
  {
   "cell_type": "code",
   "execution_count": 5,
   "metadata": {},
   "outputs": [],
   "source": [
    "#calculations for the movement at the ceiling and floor\n",
    "ceil_count = round((m-1)*divided)\n",
    "floor_count = (m-1) - ceil_count"
   ]
  },
  {
   "cell_type": "code",
   "execution_count": 6,
   "metadata": {},
   "outputs": [
    {
     "name": "stdout",
     "output_type": "stream",
     "text": [
      "RRRRRRRRRRRRRRRRRRRRRRRRRRRRRRRRRRRRRRRRRRRRRRRRRRRRRDDDDD"
     ]
    }
   ],
   "source": [
    "#output of operations\n",
    "print('D'*(floor-1), end='')\n",
    "print('R'*(floor_count),end='')\n",
    "if(bbb==False):\n",
    "    print('D', end=\"\")\n",
    "print('R'*(ceil_count),end='')\n",
    "print('D'*(n-ceiling),end='') # for movement downwards towards end point"
   ]
  },
  {
   "cell_type": "markdown",
   "metadata": {},
   "source": [
    "q2\n"
   ]
  },
  {
   "cell_type": "code",
   "execution_count": 15,
   "metadata": {},
   "outputs": [
    {
     "name": "stdout",
     "output_type": "stream",
     "text": [
      "15\n",
      "5\n",
      "5\n",
      "5\n",
      "5\n",
      "5\n",
      "5\n",
      "15\n",
      "5\n",
      "15\n",
      "Outside\n",
      "d\n"
     ]
    }
   ],
   "source": [
    "#q6\n",
    "\n",
    "#determining limits of sequence\n",
    "x =int(input(\"\"))\n",
    "y =int(input(\"\"))\n",
    "tuple1 = (x,y)\n",
    "\n",
    "x =int(input(\"\"))\n",
    "y =int(input(\"\"))\n",
    "tuple2 = (x,y)\n",
    "\n",
    "x =int(input(\"\"))\n",
    "y =int(input(\"\"))\n",
    "tuple3 = (x,y)\n",
    "\n",
    "x =int(input(\"\"))\n",
    "y =int(input(\"\"))\n",
    "tuple4 = (x,y)\n",
    "\n",
    "#determining the maximum and minimum tuples from tuple1 through 4\n",
    "if tuple1>tuple2 and tuple1>tuple3 and tuple1>tuple4:\n",
    "    if tuple2 < tuple3 and tuple2 < tuple4:\n",
    "        tuple3=tuple1\n",
    "        tuple1=tuple2\n",
    "    elif tuple3 < tuple2 and tuple3 < tuple4:\n",
    "        tuple1, tuple3=tuple3, tuple1\n",
    "    else:\n",
    "        tuple3=tuple1\n",
    "        tuple1=tuple4\n",
    "        \n",
    "elif tuple2>tuple1 and tuple2>tuple3 and tuple2>tuple4:\n",
    "    if tuple1 < tuple3 and tuple1 < tuple4:\n",
    "        tuple3=tuple2\n",
    "    elif tuple3 < tuple2 and tuple3 < tuple4:\n",
    "        tuple1=tuple3\n",
    "        tuple3=tuple2\n",
    "    else:\n",
    "        tuple3=tuple2\n",
    "        tuple1=tuple4\n",
    "        \n",
    "elif tuple3>tuple1 and tuple3>tuple2 and tuple3>tuple4:\n",
    "    if tuple1 < tuple2 and tuple1 < tuple4:\n",
    "        pass\n",
    "    elif tuple2 < tuple1 and tuple2 < tuple4:\n",
    "        tuple1=tuple2\n",
    "    else:\n",
    "        tuple1=tuple4\n",
    "        \n",
    "else:\n",
    "    if tuple1 < tuple2 and tuple1 < tuple3:\n",
    "        tuple3=tuple4\n",
    "    elif tuple2 < tuple1 and tuple2 < tuple3:\n",
    "        tuple1=tuple2\n",
    "        tuple3=tuple4\n",
    "    else:\n",
    "        tuple3=tuple4\n",
    "        tuple1=tuple4\n",
    "\n",
    "#checking of whether within polygon\n",
    "while True:\n",
    "    try:\n",
    "        #reading of desired x,y\n",
    "        x =int(input(\"\"))\n",
    "        y =int(input(\"\"))\n",
    "    except ValueError:\n",
    "        break\n",
    "    tuple5 = (x,y)\n",
    "    #checking if within range of polygon\n",
    "    if tuple5[0] < tuple1[0] or tuple5[1] < tuple1[1] or  tuple5[0] > tuple3[0] or tuple5[1] > tuple3[1]:\n",
    "        print(\"Outside\")\n",
    "    else:\n",
    "        print(\"Inside\")\n"
   ]
  }
 ],
 "metadata": {
  "kernelspec": {
   "display_name": "Python 3",
   "language": "python",
   "name": "python3"
  },
  "language_info": {
   "codemirror_mode": {
    "name": "ipython",
    "version": 3
   },
   "file_extension": ".py",
   "mimetype": "text/x-python",
   "name": "python",
   "nbconvert_exporter": "python",
   "pygments_lexer": "ipython3",
   "version": "3.6.4"
  }
 },
 "nbformat": 4,
 "nbformat_minor": 2
}
